{
 "cells": [
  {
   "cell_type": "code",
   "execution_count": null,
   "id": "5c134383",
   "metadata": {},
   "outputs": [],
   "source": [
    "##1. Write a Python program to check if the given number is a Disarium Number?"
   ]
  },
  {
   "cell_type": "code",
   "execution_count": 2,
   "id": "21a0fde2",
   "metadata": {},
   "outputs": [
    {
     "name": "stdout",
     "output_type": "stream",
     "text": [
      "Enter the number : 23\n",
      "Not a Disarium Number\n"
     ]
    }
   ],
   "source": [
    "# Python program to check whether a number is Disarium\n",
    "# or not\n",
    "import math\n",
    "\n",
    "# Method to check whether a number is disarium or not\n",
    "def check(n) :\n",
    "\n",
    "\t# Count digits in n.\n",
    "\tcount_digits = len(str(n))\n",
    "\t\n",
    "\t# Compute sum of terms like digit multiplied by\n",
    "\t# power of position\n",
    "\tsum = 0 # Initialize sum of terms\n",
    "\tx = n\n",
    "\twhile (x!=0) :\n",
    "\n",
    "\t\t# Get the rightmost digit\n",
    "\t\tr = x % 10\n",
    "\t\t\n",
    "\t\t# Sum the digits by powering according to\n",
    "\t\t# the positions\n",
    "\t\tsum = (int) (sum + math.pow(r, count_digits))\n",
    "\t\tcount_digits = count_digits - 1\n",
    "\t\tx = x//10\n",
    "\t\t\n",
    "\t# If sum is same as number, then number is\n",
    "\tif sum == n :\n",
    "\t\treturn 1\n",
    "\telse :\n",
    "\t\treturn 0\n",
    "\t\n",
    "# Driver method\n",
    "n = int(input(\"Enter the number : \"))\n",
    "if (check(n) == 1) :\n",
    "\tprint (\"Disarium Number\")\n",
    "else :\n",
    "\tprint (\"Not a Disarium Number\")"
   ]
  },
  {
   "cell_type": "code",
   "execution_count": null,
   "id": "d14e47fc",
   "metadata": {},
   "outputs": [],
   "source": [
    "##2.\tWrite a Python program to print all disarium numbers between 1 to 100?"
   ]
  },
  {
   "cell_type": "code",
   "execution_count": 3,
   "id": "dd79cd8c",
   "metadata": {},
   "outputs": [
    {
     "name": "stdout",
     "output_type": "stream",
     "text": [
      "The disarium numbers between 1 and 100 are : \n",
      "1\n",
      "2\n",
      "3\n",
      "4\n",
      "5\n",
      "6\n",
      "7\n",
      "8\n",
      "9\n",
      "89\n"
     ]
    }
   ],
   "source": [
    "def length_calculation(my_val):\n",
    "   len_val = 0\n",
    "   while(my_val != 0):\n",
    "      len_val = len_val + 1\n",
    "      my_val = my_val//10\n",
    "   return len_val\n",
    "def digit_sum(my_num):\n",
    "   remaining = sum_val = 0\n",
    "   len_fun = length_calculation(my_num)\n",
    "   while(my_num > 0):\n",
    "      remaining = my_num%10\n",
    "      sum_val = sum_val + (remaining**len_fun)\n",
    "      my_num = my_num//10\n",
    "      len_fun = len_fun - 1\n",
    "   return sum_val\n",
    "ini_result = 0\n",
    "print(\"The disarium numbers between 1 and 100 are : \")\n",
    "for i in range(1, 101):\n",
    "   ini_result = digit_sum(i)\n",
    "   if(ini_result == i):\n",
    "      print(i)"
   ]
  },
  {
   "cell_type": "code",
   "execution_count": 4,
   "id": "1ac6af48",
   "metadata": {},
   "outputs": [],
   "source": [
    "##3.\tWrite a Python program to check if the given number is Happy Number?"
   ]
  },
  {
   "cell_type": "code",
   "execution_count": 12,
   "id": "81dd0784",
   "metadata": {},
   "outputs": [
    {
     "name": "stdout",
     "output_type": "stream",
     "text": [
      "Enter the no : 6666\n",
      "6666 is not a happy number\n"
     ]
    }
   ],
   "source": [
    "#isHappyNumber() will determine whether a number is happy or not    \n",
    "def isHappyNumber(num):    \n",
    "    rem = sum = 0   \n",
    "        \n",
    "    #Calculates the sum of squares of digits    \n",
    "    while(num > 0):    \n",
    "        rem = num%10   \n",
    "        sum = sum + (rem*rem)   \n",
    "        num = num//10   \n",
    "    return sum   \n",
    "        \n",
    "num = int(input(\"Enter the no : \"))    \n",
    "result = num   \n",
    "     \n",
    "while(result != 1 and result != 4):    \n",
    "    result = isHappyNumber(result)   \n",
    "     \n",
    "#Happy number always ends with 1    \n",
    "if(result == 1):    \n",
    "    print(str(num) + \" is a happy number\")  \n",
    "#Unhappy number ends in a cycle of repeating numbers which contain 4    \n",
    "elif(result == 4):    \n",
    "    print(str(num) + \" is not a happy number\")  "
   ]
  },
  {
   "cell_type": "code",
   "execution_count": null,
   "id": "afa5c347",
   "metadata": {},
   "outputs": [],
   "source": []
  },
  {
   "cell_type": "code",
   "execution_count": null,
   "id": "304c8708",
   "metadata": {},
   "outputs": [],
   "source": []
  },
  {
   "cell_type": "code",
   "execution_count": null,
   "id": "ae1e7ff1",
   "metadata": {},
   "outputs": [],
   "source": [
    "##4.\tWrite a Python program to print all happy numbers between 1 and 100?"
   ]
  },
  {
   "cell_type": "code",
   "execution_count": 15,
   "id": "4c216a30",
   "metadata": {},
   "outputs": [
    {
     "name": "stdout",
     "output_type": "stream",
     "text": [
      "List of happy numbers between 1 and 100: \n",
      "1  \n",
      "7  \n",
      "10  \n",
      "13  \n",
      "19  \n",
      "23  \n",
      "28  \n",
      "31  \n",
      "32  \n",
      "44  \n",
      "49  \n",
      "68  \n",
      "70  \n",
      "79  \n",
      "82  \n",
      "86  \n",
      "91  \n",
      "94  \n",
      "97  \n",
      "100  \n"
     ]
    }
   ],
   "source": [
    "def isHappyNumber(num):    \n",
    "    rem = sum = 0    \n",
    "        \n",
    "    #Calculates the sum of squares of digits    \n",
    "    while(num > 0):    \n",
    "        rem = num%10  \n",
    "        sum = sum + (rem*rem)    \n",
    "        num = num//10   \n",
    "    return sum    \n",
    "            \n",
    "#Displays all happy numbers between 1 and 100    \n",
    "print(\"List of happy numbers between 1 and 100: \") \n",
    "for i in range(1, 101):    \n",
    "    result = i    \n",
    "        \n",
    "    #Happy number always ends with 1 and     \n",
    "    #unhappy number ends in a cycle of repeating numbers which contains 4    \n",
    "    while(result != 1 and result != 4):    \n",
    "        result = isHappyNumber(result)    \n",
    "        \n",
    "    if(result == 1):    \n",
    "        print(i, \" \")"
   ]
  },
  {
   "cell_type": "code",
   "execution_count": null,
   "id": "ed875cf4",
   "metadata": {},
   "outputs": [],
   "source": [
    "#5.\tWrite a Python program to determine whether the given number is a Harshad Number?"
   ]
  },
  {
   "cell_type": "code",
   "execution_count": 16,
   "id": "404c44a1",
   "metadata": {},
   "outputs": [
    {
     "name": "stdout",
     "output_type": "stream",
     "text": [
      "Yes\n",
      "No\n"
     ]
    }
   ],
   "source": [
    "# Python program to check\n",
    "# if a number is Harshad\n",
    "# Number or not.\n",
    "\n",
    "def checkHarshad( n ) :\n",
    "\tsum = 0\n",
    "\ttemp = n\n",
    "\twhile temp > 0 :\n",
    "\t\tsum = sum + temp % 10\n",
    "\t\ttemp = temp // 10\n",
    "\t# Return true if sum of\n",
    "\t# digits is multiple of n\n",
    "\treturn n % sum == 0\n",
    "\n",
    "# Driver Code\n",
    "if(checkHarshad(12)) : print(\"Yes\")\n",
    "else : print (\"No\")\n",
    "\n",
    "if (checkHarshad(15)) : print(\"Yes\")\n",
    "else : print (\"No\")\n",
    "\t\n"
   ]
  },
  {
   "cell_type": "code",
   "execution_count": null,
   "id": "2b576de5",
   "metadata": {},
   "outputs": [],
   "source": [
    "##6.\tWrite a Python program to print all pronic numbers between 1 and 100?"
   ]
  },
  {
   "cell_type": "code",
   "execution_count": 17,
   "id": "d7872a34",
   "metadata": {},
   "outputs": [
    {
     "name": "stdout",
     "output_type": "stream",
     "text": [
      "0 2 6 12 20 30 42 56 72 90 110 132 156 182 "
     ]
    }
   ],
   "source": [
    "    # Python program to check\n",
    "# and print Pronic Numbers\n",
    "# upto 200\n",
    "import math\n",
    "\n",
    "# function to check\n",
    "# Pronic Number\n",
    "def checkPronic (x) :\n",
    "\n",
    "\ti = 0\n",
    "\twhile ( i <= (int)(math.sqrt(x)) ) :\n",
    "\t\t\n",
    "\t\t# Checking Pronic Number\n",
    "\t\t# by multiplying consecutive\n",
    "\t\t# numbers\n",
    "\t\tif ( x == i * (i + 1)) :\n",
    "\t\t\treturn True\n",
    "\t\ti = i + 1\n",
    "\n",
    "\treturn False\n",
    "\n",
    "# Driver Code\n",
    "\n",
    "# Printing Pronic\n",
    "# Numbers upto 200\n",
    "i = 0\n",
    "while (i <= 200 ) :\n",
    "\tif checkPronic(i) :\n",
    "\t\tprint(i,end=\" \")\n",
    "\ti = i + 1"
   ]
  },
  {
   "cell_type": "code",
   "execution_count": null,
   "id": "31d7395c",
   "metadata": {},
   "outputs": [],
   "source": []
  },
  {
   "cell_type": "code",
   "execution_count": null,
   "id": "824e3a33",
   "metadata": {},
   "outputs": [],
   "source": []
  },
  {
   "cell_type": "code",
   "execution_count": null,
   "id": "9d424159",
   "metadata": {},
   "outputs": [],
   "source": []
  },
  {
   "cell_type": "code",
   "execution_count": 7,
   "id": "de98eef5",
   "metadata": {},
   "outputs": [],
   "source": []
  },
  {
   "cell_type": "code",
   "execution_count": null,
   "id": "e8332a7e",
   "metadata": {},
   "outputs": [],
   "source": []
  },
  {
   "cell_type": "code",
   "execution_count": null,
   "id": "ce4eaf1a",
   "metadata": {},
   "outputs": [],
   "source": []
  }
 ],
 "metadata": {
  "kernelspec": {
   "display_name": "Python 3 (ipykernel)",
   "language": "python",
   "name": "python3"
  },
  "language_info": {
   "codemirror_mode": {
    "name": "ipython",
    "version": 3
   },
   "file_extension": ".py",
   "mimetype": "text/x-python",
   "name": "python",
   "nbconvert_exporter": "python",
   "pygments_lexer": "ipython3",
   "version": "3.9.7"
  }
 },
 "nbformat": 4,
 "nbformat_minor": 5
}
