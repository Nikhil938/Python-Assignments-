{
 "cells": [
  {
   "cell_type": "code",
   "execution_count": null,
   "id": "50a39e3b",
   "metadata": {},
   "outputs": [],
   "source": [
    "#1.\tWrite a Python Program to Display Fibonacci Sequence Using Recursion?"
   ]
  },
  {
   "cell_type": "code",
   "execution_count": 3,
   "id": "f018d71b",
   "metadata": {},
   "outputs": [
    {
     "name": "stdout",
     "output_type": "stream",
     "text": [
      "Enter the no : 5\n",
      "Fibonacci sequence:\n",
      "0\n",
      "1\n",
      "1\n",
      "2\n",
      "3\n"
     ]
    }
   ],
   "source": [
    "# Python program to display the Fibonacci sequence\n",
    "\n",
    "def recur_fibo(n):\n",
    "   if n <= 1:\n",
    "       return n\n",
    "   else:\n",
    "       return(recur_fibo(n-1) + recur_fibo(n-2))\n",
    "\n",
    "nterms = int(input(\"Enter the no : \"))\n",
    "\n",
    "# check if the number of terms is valid\n",
    "if nterms <= 0:\n",
    "   print(\"Plese enter a positive integer\")\n",
    "else:\n",
    "   print(\"Fibonacci sequence:\")\n",
    "   for i in range(nterms):\n",
    "       print(recur_fibo(i))\n"
   ]
  },
  {
   "cell_type": "code",
   "execution_count": null,
   "id": "b1dfe399",
   "metadata": {},
   "outputs": [],
   "source": [
    "#2.\tWrite a Python Program to Find Factorial of Number Using Recursion?"
   ]
  },
  {
   "cell_type": "code",
   "execution_count": 5,
   "id": "c04eacb5",
   "metadata": {},
   "outputs": [
    {
     "name": "stdout",
     "output_type": "stream",
     "text": [
      "Enter the no : 3\n",
      "The factorial of 3 is 6\n"
     ]
    }
   ],
   "source": [
    "# Factorial of a number using recursion\n",
    "\n",
    "def recur_factorial(n):\n",
    "   if n == 1:\n",
    "       return n\n",
    "   else:\n",
    "       return n*recur_factorial(n-1)\n",
    "\n",
    "num = int(input(\"Enter the no : \"))\n",
    "# check if the number is negative\n",
    "if num < 0:\n",
    "   print(\"Sorry, factorial does not exist for negative numbers\")\n",
    "elif num == 0:\n",
    "   print(\"The factorial of 0 is 1\")\n",
    "else:\n",
    "   print(\"The factorial of\", num, \"is\", recur_factorial(num))\n"
   ]
  },
  {
   "cell_type": "code",
   "execution_count": null,
   "id": "4bb8ff04",
   "metadata": {},
   "outputs": [],
   "source": [
    "#3.\tWrite a Python Program to calculate your Body Mass Index?"
   ]
  },
  {
   "cell_type": "code",
   "execution_count": 7,
   "id": "6a5860fa",
   "metadata": {},
   "outputs": [
    {
     "name": "stdout",
     "output_type": "stream",
     "text": [
      "Enter your height in metres : 1.752\n",
      "Enter your weight in kg : 78\n",
      "The BMI is 25.411271658222304 so overweight\n"
     ]
    }
   ],
   "source": [
    "#Python program to illustrate\n",
    "# how to calculate BMI\n",
    "def BMI(height, weight):\n",
    "\tbmi = weight/(height**2)\n",
    "\treturn bmi\n",
    "\n",
    "# Driver code\n",
    "height = float(input(\"Enter your height in metres : \"))\n",
    "weight = float(input(\"Enter your weight in kg : \"))\n",
    "\n",
    "# calling the BMI function\n",
    "bmi = BMI(height, weight)\n",
    "print(\"The BMI is\", format(bmi), \"so \", end='')\n",
    "\n",
    "# Conditions to find out BMI category\n",
    "if (bmi < 18.5):\n",
    "\tprint(\"underweight\")\n",
    "\n",
    "elif ( bmi >= 18.5 and bmi < 24.9):\n",
    "\tprint(\"Healthy\")\n",
    "\n",
    "elif ( bmi >= 24.9 and bmi < 30):\n",
    "\tprint(\"overweight\")\n",
    "\n",
    "elif ( bmi >=30):\n",
    "\tprint(\"Suffering from Obesity\")\n"
   ]
  },
  {
   "cell_type": "code",
   "execution_count": null,
   "id": "afcd444a",
   "metadata": {},
   "outputs": [],
   "source": [
    "#4.\tWrite a Python Program to calculate the natural logarithm of any number?"
   ]
  },
  {
   "cell_type": "code",
   "execution_count": 10,
   "id": "92203366",
   "metadata": {},
   "outputs": [
    {
     "name": "stdout",
     "output_type": "stream",
     "text": [
      "Enter the no : 8\n",
      "Natural logarithm of  8 is : 2.6390573296152584\n"
     ]
    }
   ],
   "source": [
    "# Python code to demonstrate the working of\n",
    "# log(a,Base)\n",
    "\n",
    "import math\n",
    "\n",
    "# Printing the log base e of 14\n",
    "num=int(input(\"Enter the no : \"))\n",
    "print (\"Natural logarithm of \",num , \"is : \", end=\"\")\n",
    "print (math.log(14))\n"
   ]
  },
  {
   "cell_type": "code",
   "execution_count": null,
   "id": "bdcbdd8c",
   "metadata": {},
   "outputs": [],
   "source": [
    "#5.\tWrite a Python Program for cube sum of first n natural numbers?"
   ]
  },
  {
   "cell_type": "code",
   "execution_count": 11,
   "id": "41b206fb",
   "metadata": {},
   "outputs": [
    {
     "name": "stdout",
     "output_type": "stream",
     "text": [
      "225\n"
     ]
    }
   ],
   "source": [
    "# Python code\n",
    "# to print cube sum of first n natural numbers\n",
    "# using inbuilt function pow()\n",
    "\n",
    "n=5\n",
    "s=0\n",
    "# iterating loop up to given number n\n",
    "for i in range(1,n+1):\n",
    "\t# adding cube sum using pow() function\n",
    "\ts=s+pow(i,3)\n",
    "print(s)\n",
    "\n",
    "# this code is contributed by gangarajula laxmi\n"
   ]
  },
  {
   "cell_type": "code",
   "execution_count": null,
   "id": "d6d5bd31",
   "metadata": {},
   "outputs": [],
   "source": []
  },
  {
   "cell_type": "code",
   "execution_count": null,
   "id": "c37b96b4",
   "metadata": {},
   "outputs": [],
   "source": []
  },
  {
   "cell_type": "code",
   "execution_count": null,
   "id": "3415d8d5",
   "metadata": {},
   "outputs": [],
   "source": []
  }
 ],
 "metadata": {
  "kernelspec": {
   "display_name": "Python 3 (ipykernel)",
   "language": "python",
   "name": "python3"
  },
  "language_info": {
   "codemirror_mode": {
    "name": "ipython",
    "version": 3
   },
   "file_extension": ".py",
   "mimetype": "text/x-python",
   "name": "python",
   "nbconvert_exporter": "python",
   "pygments_lexer": "ipython3",
   "version": "3.9.7"
  }
 },
 "nbformat": 4,
 "nbformat_minor": 5
}
